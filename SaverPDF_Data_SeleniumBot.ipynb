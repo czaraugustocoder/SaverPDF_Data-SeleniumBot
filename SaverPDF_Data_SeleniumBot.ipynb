{
  "nbformat": 4,
  "nbformat_minor": 0,
  "metadata": {
    "colab": {
      "provenance": [],
      "authorship_tag": "ABX9TyPVXdhmW3oq1J507Z6pLGKp",
      "include_colab_link": true
    },
    "kernelspec": {
      "name": "python3",
      "display_name": "Python 3"
    },
    "language_info": {
      "name": "python"
    }
  },
  "cells": [
    {
      "cell_type": "markdown",
      "metadata": {
        "id": "view-in-github",
        "colab_type": "text"
      },
      "source": [
        "<a href=\"https://colab.research.google.com/github/czaraugustocoder/SaverPDF_Data-SeleniumBot/blob/main/SaverPDF_Data_SeleniumBot.ipynb\" target=\"_parent\"><img src=\"https://colab.research.google.com/assets/colab-badge.svg\" alt=\"Open In Colab\"/></a>"
      ]
    },
    {
      "cell_type": "markdown",
      "source": [
        "**Salvando os arquivos PDF**"
      ],
      "metadata": {
        "id": "z7-PpkoilBZg"
      }
    },
    {
      "cell_type": "code",
      "execution_count": 1,
      "metadata": {
        "colab": {
          "base_uri": "https://localhost:8080/"
        },
        "id": "XA6D3pz7jPN1",
        "outputId": "df96df40-9ed0-4721-a0e1-90e55202e72d"
      },
      "outputs": [
        {
          "output_type": "stream",
          "name": "stdout",
          "text": [
            "Requirement already satisfied: selenium in /usr/local/lib/python3.10/dist-packages (4.11.2)\n",
            "Requirement already satisfied: urllib3[socks]<3,>=1.26 in /usr/local/lib/python3.10/dist-packages (from selenium) (1.26.16)\n",
            "Requirement already satisfied: trio~=0.17 in /usr/local/lib/python3.10/dist-packages (from selenium) (0.22.2)\n",
            "Requirement already satisfied: trio-websocket~=0.9 in /usr/local/lib/python3.10/dist-packages (from selenium) (0.10.3)\n",
            "Requirement already satisfied: certifi>=2021.10.8 in /usr/local/lib/python3.10/dist-packages (from selenium) (2023.7.22)\n",
            "Requirement already satisfied: attrs>=20.1.0 in /usr/local/lib/python3.10/dist-packages (from trio~=0.17->selenium) (23.1.0)\n",
            "Requirement already satisfied: sortedcontainers in /usr/local/lib/python3.10/dist-packages (from trio~=0.17->selenium) (2.4.0)\n",
            "Requirement already satisfied: idna in /usr/local/lib/python3.10/dist-packages (from trio~=0.17->selenium) (3.4)\n",
            "Requirement already satisfied: outcome in /usr/local/lib/python3.10/dist-packages (from trio~=0.17->selenium) (1.2.0)\n",
            "Requirement already satisfied: sniffio in /usr/local/lib/python3.10/dist-packages (from trio~=0.17->selenium) (1.3.0)\n",
            "Requirement already satisfied: exceptiongroup>=1.0.0rc9 in /usr/local/lib/python3.10/dist-packages (from trio~=0.17->selenium) (1.1.2)\n",
            "Requirement already satisfied: wsproto>=0.14 in /usr/local/lib/python3.10/dist-packages (from trio-websocket~=0.9->selenium) (1.2.0)\n",
            "Requirement already satisfied: PySocks!=1.5.7,<2.0,>=1.5.6 in /usr/local/lib/python3.10/dist-packages (from urllib3[socks]<3,>=1.26->selenium) (1.7.1)\n",
            "Requirement already satisfied: h11<1,>=0.9.0 in /usr/local/lib/python3.10/dist-packages (from wsproto>=0.14->trio-websocket~=0.9->selenium) (0.14.0)\n",
            "/bin/bash: line 1: pip-get: command not found\n",
            "Reading package lists... Done\n",
            "Building dependency tree... Done\n",
            "Reading state information... Done\n",
            "chromium-chromedriver is already the newest version (1:85.0.4183.83-0ubuntu2.22.04.1).\n",
            "0 upgraded, 0 newly installed, 0 to remove and 16 not upgraded.\n"
          ]
        }
      ],
      "source": [
        "!pip install selenium\n",
        "!pip-get update\n",
        "!apt install chromium-chromedriver"
      ]
    },
    {
      "cell_type": "code",
      "source": [
        "from selenium import webdriver"
      ],
      "metadata": {
        "id": "JXkC4jogjiP3"
      },
      "execution_count": 2,
      "outputs": []
    },
    {
      "cell_type": "code",
      "source": [
        "from selenium.webdriver.common.by import By\n",
        "from selenium.webdriver.support.ui import Select\n",
        "from time import sleep"
      ],
      "metadata": {
        "id": "S-z9N63ekIpc"
      },
      "execution_count": 3,
      "outputs": []
    },
    {
      "cell_type": "code",
      "source": [
        "from bs4 import BeautifulSoup"
      ],
      "metadata": {
        "id": "1uztauJMkKmC"
      },
      "execution_count": 4,
      "outputs": []
    },
    {
      "cell_type": "code",
      "source": [
        "import requests"
      ],
      "metadata": {
        "id": "p1LNbNs3kl_n"
      },
      "execution_count": 5,
      "outputs": []
    },
    {
      "cell_type": "code",
      "source": [
        "chrome_options = webdriver.ChromeOptions()"
      ],
      "metadata": {
        "id": "o9mc5UlDjpSo"
      },
      "execution_count": 6,
      "outputs": []
    },
    {
      "cell_type": "code",
      "source": [
        "chrome_options.add_argument('--headless')\n",
        "chrome_options.add_argument('--no-sandbox')\n",
        "chrome_options.add_argument('--disable-dev-shm-usage')"
      ],
      "metadata": {
        "id": "L2AhDUYYjqmg"
      },
      "execution_count": 7,
      "outputs": []
    },
    {
      "cell_type": "code",
      "source": [
        "wd_chrome = webdriver.Edge(options=chrome_options)"
      ],
      "metadata": {
        "id": "zLmd2ROrj0xE"
      },
      "execution_count": 8,
      "outputs": []
    },
    {
      "cell_type": "code",
      "source": [
        "nomes_doc = []\n",
        "\n",
        "# fazendo a conexão com o site\n",
        "wd_chrome.get('https://www.aleam.gov.br/transparencia/controle-de-cota-parlamentar/')\n",
        "\n",
        "sleep(2)\n",
        "\n",
        "# selecionando um elemento da página pelo id\n",
        "select_page = Select(wd_chrome.find_element(By.ID, \"mes\"))\n",
        "\n",
        "sleep(2)\n",
        "\n",
        "# selecionando uma opção em uma lista suspensa\n",
        "select_page.select_by_visible_text('Junho')\n",
        "\n",
        "sleep(2)\n",
        "\n",
        "# selecionando um elemento pela classe\n",
        "content_page = wd_chrome.find_element(By.CLASS_NAME, 'btn-outline-secondary')\n",
        "\n",
        "# clicando em um botão\n",
        "content_page.click()\n",
        "\n",
        "sleep(2)\n",
        "\n",
        "# utilizando o BeautifulSoup para raspar os nomes dos pdf's\n",
        "pagina_html = BeautifulSoup(wd_chrome.page_source,'html.parser')\n",
        "\n",
        "# salvando os arquivos pdf na memória temporária do colab\n",
        "count = 0\n",
        "for a in pagina_html.find_all('a', {'class':'doct'}):\n",
        "  print(a.get('href'))\n",
        "  count += 1\n",
        "  response = requests.get(a.get('href'))\n",
        "  name_pdf = \"pdf\"+str(count)+\".pdf\"\n",
        "  pdf = open(name_pdf, 'wb')\n",
        "  nomes_doc.append(\"/content/\"+name_pdf)\n",
        "  pdf.write(response.content)\n",
        "  pdf.close()\n",
        "\n",
        "  sleep(5)\n",
        "\n",
        "wd_chrome.quit()"
      ],
      "metadata": {
        "colab": {
          "base_uri": "https://localhost:8080/"
        },
        "id": "7JRtjITRj5tG",
        "outputId": "1b835510-4772-4125-c12c-9fa526d962fc"
      },
      "execution_count": 9,
      "outputs": [
        {
          "output_type": "stream",
          "name": "stdout",
          "text": [
            "https://www.aleam.gov.br/transparencia/wp-content/uploads/2023/07/ABDALA.pdf\n",
            "https://www.aleam.gov.br/transparencia/wp-content/uploads/2023/07/ADJUTO.pdf\n",
            "https://www.aleam.gov.br/transparencia/wp-content/uploads/2023/07/ALESSANDRA-CAMPELO.pdf\n",
            "https://www.aleam.gov.br/transparencia/wp-content/uploads/2023/07/ALCIMAR-MACIEL.pdf\n",
            "https://www.aleam.gov.br/transparencia/wp-content/uploads/2023/07/CARLOS-BESSA.pdf\n",
            "https://www.aleam.gov.br/transparencia/wp-content/uploads/2023/07/DAN-CAMARA.pdf\n",
            "https://www.aleam.gov.br/transparencia/wp-content/uploads/2023/07/CRISTIANO-D´ANGELO.pdf\n",
            "https://www.aleam.gov.br/transparencia/wp-content/uploads/2023/07/DANIEL-ALMEIDA.pdf\n",
            "https://www.aleam.gov.br/transparencia/wp-content/uploads/2023/07/DEBORA-MENEZES.pdf\n",
            "https://www.aleam.gov.br/transparencia/wp-content/uploads/2023/07/PERICLES.pdf\n",
            "https://www.aleam.gov.br/transparencia/wp-content/uploads/2023/07/GEORGE-LINS.pdf\n",
            "https://www.aleam.gov.br/transparencia/wp-content/uploads/2023/07/FRANCISCO-GOMES.pdf\n",
            "https://www.aleam.gov.br/transparencia/wp-content/uploads/2023/07/MAYARA-PINHEIRO.pdf\n",
            "https://www.aleam.gov.br/transparencia/wp-content/uploads/2023/07/FELIPE-SOUZA.pdf\n",
            "https://www.aleam.gov.br/transparencia/wp-content/uploads/2023/07/JOANA-D´ARC.pdf\n",
            "https://www.aleam.gov.br/transparencia/wp-content/uploads/2023/07/JOAO-LUIZ.pdf\n",
            "https://www.aleam.gov.br/transparencia/wp-content/uploads/2023/07/MARICO-CESAR.pdf\n",
            "https://www.aleam.gov.br/transparencia/wp-content/uploads/2023/07/MAYRA-BENTES.pdf\n",
            "https://www.aleam.gov.br/transparencia/wp-content/uploads/2023/07/ROOBERTO-CIDADE.pdf\n",
            "https://www.aleam.gov.br/transparencia/wp-content/uploads/2023/07/ROZENHA.pdf\n",
            "https://www.aleam.gov.br/transparencia/wp-content/uploads/2023/07/SINESIO.pdf\n",
            "https://www.aleam.gov.br/transparencia/wp-content/uploads/2023/07/THIAGO-ABRAHIM.pdf\n",
            "https://www.aleam.gov.br/transparencia/wp-content/uploads/2023/07/WANDERLEY-MONTEIRO.pdf\n",
            "https://www.aleam.gov.br/transparencia/wp-content/uploads/2023/07/WILKER-BARRETO.pdf\n"
          ]
        }
      ]
    },
    {
      "cell_type": "markdown",
      "source": [
        "**Raspando os dados dos PDF's**"
      ],
      "metadata": {
        "id": "JbggOPVwlYFg"
      }
    },
    {
      "cell_type": "code",
      "source": [
        "!pip install PyPDF2"
      ],
      "metadata": {
        "colab": {
          "base_uri": "https://localhost:8080/"
        },
        "id": "Jn579u9_lcvI",
        "outputId": "6ea4caec-4abf-4170-ae3a-38686adfdc9d"
      },
      "execution_count": 10,
      "outputs": [
        {
          "output_type": "stream",
          "name": "stdout",
          "text": [
            "Requirement already satisfied: PyPDF2 in /usr/local/lib/python3.10/dist-packages (3.0.1)\n"
          ]
        }
      ]
    },
    {
      "cell_type": "code",
      "source": [
        "import PyPDF2\n",
        "from PyPDF2 import PdfWriter"
      ],
      "metadata": {
        "id": "yUoPhQcsllnI"
      },
      "execution_count": 11,
      "outputs": []
    },
    {
      "cell_type": "code",
      "source": [
        "# juntando todos os pdf's armazenados em um só pdf\n",
        "\n",
        "merger = PdfWriter()\n",
        "\n",
        "for pdf in nomes_doc:\n",
        "    merger.append(pdf)\n",
        "\n",
        "merger.write(\"merged-pdf.pdf\")\n",
        "merger.close()"
      ],
      "metadata": {
        "id": "lo-9e2udlpsH"
      },
      "execution_count": 12,
      "outputs": []
    },
    {
      "cell_type": "code",
      "source": [
        "# criando um pdf file object\n",
        "pdfFileObj = open('/content/pdf5.pdf', 'rb')\n",
        "\n",
        "# criando um pdf reader object\n",
        "pdfReader = PyPDF2.PdfReader(pdfFileObj)\n",
        "\n",
        "# printando o número de páginas do arquivo\n",
        "paginas = len(pdfReader.pages)\n",
        "print(\"número de páginas:\",paginas)\n",
        "\n",
        "# criando um page object\n",
        "pageObj = pdfReader.pages[0]\n",
        "\n",
        "# extraindo o texto da página\n",
        "print(pageObj.extract_text())\n",
        "\n",
        "# fechando o pdf file object\n",
        "pdfFileObj.close()"
      ],
      "metadata": {
        "colab": {
          "base_uri": "https://localhost:8080/"
        },
        "id": "kKElSsr4lsI5",
        "outputId": "c6ca6c15-962b-44da-bcb0-e4dfc78465a2"
      },
      "execution_count": 13,
      "outputs": [
        {
          "output_type": "stream",
          "name": "stdout",
          "text": [
            "número de páginas: 1\n",
            "DEPUTADO (A): CARLOS EDUARDO BESSA DE SA\n",
            "31/07/2023\n",
            "1 Página: ASSEMBLÉIA LEGISLATIVA DO ESTADO DO AMAZONAS\n",
            "Núcleo de Fiscalização e Controle da Cota para o Exercício da Atividade Parlamentar\n",
            "Cota para o Exercício da Atividade Parlamentar\n",
            "Ressarcimento 036referente a JUNHO/2023\n",
            "SALDO ANTERIOR VERBA CREDITADA DESPESAS EM OUTROS LOTES DESPESA REEMBOLSÁVEL SALDO DISPONÍVEL\n",
            "R$32.202,82 R$49.849,65 R$0,00 R$50.599,39 R$31.453,08\n",
            "BENEFICIÁRIO NF NRO. EMISSÃO VERBA/DESCRIÇÃO VAL BRUTO GLOSA VAL LÍQUIDO DETALHAMENTO\n",
            "05/06 36.666.516/0001-17 - AMAZONAS SERVICOS DE TURISMO, TRANSPORTE,\n",
            "NAVEGACAO E LOCACAO DE AUTOMOVEIS E EQUIPAMENTOS LTDALOCAÇÃO DE VEÍCULOS R$3.000,00 R$0,00 R$3.000,00 19/06/2023\n",
            "05/06 63.735.047/0001-13 - ODM LOCACAO DE VEICULOS MAQUINAS E EQUIPAMENTOS\n",
            "LTDALOCAÇÃO DE VEÍCULOS R$10.000,00 R$0,00 R$10.000,00 19/06/2023\n",
            "1383 05.220.251/0005-29 - CIDADE COMERCIO DE DERIVADOS DE PETROLEO E\n",
            "TRANSPORTES LTDACOMBUSTIVEL / LUBRIFICANTE R$7.963,34 R$0,00 R$7.963,34 16/06/2023\n",
            "2493 07.979.987/0001-87 - VIZION GESTAO DE NEGOCIOS EMPRESARIAIS LTDA LOCAÇÃO / AQUISIÇÃO DE SOFTWARE R$586,00 R$0,00 R$586,00 14/06/2023\n",
            "434 43.791.335/0001-88 - M H F V MATERIAL EXPEDIENTE E SUP. DE INFORMÁTICA R$12.000,00 R$0,00 R$12.000,00 14/06/2023\n",
            "133 37.476.452/0001-54 - ADRIANO DOS SANTOS VIEIRA CONSULTORIA E ASSESSORIA CONTÁBIL R$5.000,00 R$0,00 R$5.000,00 19/06/2023\n",
            "085.781 04.354.908/0001-54 - EMPRESA DE JORNAIS CALDERARO LIMITADA ASSINATURA DE PUBLICAÇÕES R$50,05 R$0,00 R$50,05 14/06/2023\n",
            "01 50.436.206/0001-37 - F JR SERVICOS INFORMATIVOS ATIV. PARLAMENTAR -\n",
            "FOLDERS/BANNERS/OUTDOORR$12.000,00 R$0,00 R$12.000,00 20/06/2023\n",
            "R$50.599,39 Total das Despesas: Total de Documentos: 8\n",
            "JORGE LUIZ JORDÃO\n",
            "DIRETOR DE APOIO À MESA DIRETORASÉRGIO CLAUDIO MENEZES FERREIRA\n",
            "AUDITORANTONIO FERREIRA CHAGAS PRADO\n",
            "AUDITOR GERALELINSON SILVA LIMA\n",
            "AUDITOR\n",
            "ASSINADO DIGITALMENTE POR:\n",
            "JORGE LUIZ JORDÃO - EM 21/06/2023 09:04\n",
            "ANTONIO FERREIRA CHAGAS PRADO - EM 21/06/2023 09:10\n",
            "SÉRGIO CLAUDIO MENEZES FERREIRA - EM 21/06/2023 09:57© 2023 Solasstec Tecnologia. Todos os direitos reservados.\n"
          ]
        }
      ]
    },
    {
      "cell_type": "code",
      "source": [
        "datas = []\n",
        "nomes = []\n",
        "valores = []\n",
        "\n",
        "pdfFileObj = open('/content/merged-pdf.pdf', 'rb')\n",
        "\n",
        "pdfReader = PyPDF2.PdfReader(pdfFileObj)\n",
        "\n",
        "paginas = len(pdfReader.pages)\n",
        "\n",
        "print(\"número de páginas:\",paginas)\n",
        "\n",
        "for page in range(0,paginas):\n",
        "  print(page)\n",
        "\n",
        "  pageObj = pdfReader.pages[page]\n",
        "  valor = pageObj.extract_text().split(\"\\n\")[7]\n",
        "  nome = pageObj.extract_text().split(\"\\n\")[0]\n",
        "  data = pageObj.extract_text().split(\"\\n\")[5]\n",
        "  print(data.split(\" \")[-1],nome.split(\":\")[1],valor.split(\" \")[3])\n",
        "\n",
        "  datas.append(data.split(\" \")[-1])\n",
        "  nomes.append(nome.split(\":\")[1])\n",
        "  valores.append(valor.split(\" \")[3])\n",
        "\n",
        "pdfFileObj.close()"
      ],
      "metadata": {
        "colab": {
          "base_uri": "https://localhost:8080/"
        },
        "id": "lKvbSM_2lyxf",
        "outputId": "9ca50b10-435e-42c8-cf80-f2327f20ba29"
      },
      "execution_count": 14,
      "outputs": [
        {
          "output_type": "stream",
          "name": "stdout",
          "text": [
            "número de páginas: 24\n",
            "0\n",
            "JUNHO/2023  ABDALA HABIB FRAXE JUNIOR R$52.000,00\n",
            "1\n",
            "JUNHO/2023  ADJUTO RODRIGUES AFONSO R$50.214,55\n",
            "2\n",
            "JUNHO/2023  ALESSANDRA CAMPÊLO DA SILVA R$47.182,13\n",
            "3\n",
            "JUNHO/2023  ALCIMAR MACIEL PEREIRA R$44.820,54\n",
            "4\n",
            "JUNHO/2023  CARLOS EDUARDO BESSA DE SA R$50.599,39\n",
            "5\n",
            "JUNHO/2023  DAN CÂMARA R$46.614,10\n",
            "6\n",
            "JUNHO/2023  CRISTIANO DA SILVA DANGELO R$49.775,20\n",
            "7\n",
            "JUNHO/2023  DANIEL D JUDA PEREIRA DE ALMEIDA R$57.088,65\n",
            "8\n",
            "JUNHO/2023  DÉBORA SALGUEIRO DE MENEZES R$61.860,00\n",
            "9\n",
            "JUNHO/2023  PERICLES RODRIGUES DO NASCIMENTO R$39.191,99\n",
            "10\n",
            "JUNHO/2023  GEORGE AUGUSTO MONTEIRO LINS DE R$49.900,00\n",
            "11\n",
            "JUNHO/2023  FRANCISCO DO NASCIMENTO GOMES R$48.987,36\n",
            "12\n",
            "JUNHO/2023  MAYARA DA CRUZ FIGUEIREDO R$45.200,00\n",
            "13\n",
            "JUNHO/2023  LUIS FELIPE SILVA DE SOUZA R$49.355,32\n",
            "14\n",
            "JUNHO/2023  JOANA DARC CORDEIRO DE LIMA R$52.451,92\n",
            "15\n",
            "JUNHO/2023  JOAO LUIZ ALMEIDA DA SILVA R$65.205,00\n",
            "16\n",
            "JUNHO/2023  MÁRIO CÉSAR RODRIGUES BALDUINO R$49.540,14\n",
            "17\n",
            "JUNHO/2023  MAYRA BENITA ALVES DIAS GARCIA R$53.080,88\n",
            "18\n",
            "JUNHO/2023  ROBERTO MAIA CIDADE FILHO R$56.429,12\n",
            "19\n",
            "JUNHO/2023  EDNAILSON LEITE ROZENHA R$47.000,00\n",
            "20\n",
            "JUNHO/2023  SINESIO DA SILVA CAMPOS R$21.409,32\n",
            "21\n",
            "JUNHO/2023  JORGE THIAGO CARVALHO ABRAHIM R$59.827,95\n",
            "22\n",
            "JUNHO/2023  WANDERLEY CALDEIRA MONTEIRO R$49.645,00\n",
            "23\n",
            "JUNHO/2023  MAURICIO WILKER DE AZEVEDO R$39.500,00\n"
          ]
        }
      ]
    },
    {
      "cell_type": "markdown",
      "source": [
        "**Salvando os dados em um Datafram**"
      ],
      "metadata": {
        "id": "Nny9fZp4l6bz"
      }
    },
    {
      "cell_type": "code",
      "source": [
        "# salvando os dados em um dicionario\n",
        "\n",
        "dic_ceap = {'data':datas,'nome':nomes,'valor':valores}\n",
        "dic_ceap"
      ],
      "metadata": {
        "colab": {
          "base_uri": "https://localhost:8080/"
        },
        "id": "CGFeSIeQl5Jh",
        "outputId": "5e665e29-8ac1-411e-9a84-0e6e1fafef0b"
      },
      "execution_count": 15,
      "outputs": [
        {
          "output_type": "execute_result",
          "data": {
            "text/plain": [
              "{'data': ['JUNHO/2023',\n",
              "  'JUNHO/2023',\n",
              "  'JUNHO/2023',\n",
              "  'JUNHO/2023',\n",
              "  'JUNHO/2023',\n",
              "  'JUNHO/2023',\n",
              "  'JUNHO/2023',\n",
              "  'JUNHO/2023',\n",
              "  'JUNHO/2023',\n",
              "  'JUNHO/2023',\n",
              "  'JUNHO/2023',\n",
              "  'JUNHO/2023',\n",
              "  'JUNHO/2023',\n",
              "  'JUNHO/2023',\n",
              "  'JUNHO/2023',\n",
              "  'JUNHO/2023',\n",
              "  'JUNHO/2023',\n",
              "  'JUNHO/2023',\n",
              "  'JUNHO/2023',\n",
              "  'JUNHO/2023',\n",
              "  'JUNHO/2023',\n",
              "  'JUNHO/2023',\n",
              "  'JUNHO/2023',\n",
              "  'JUNHO/2023'],\n",
              " 'nome': [' ABDALA HABIB FRAXE JUNIOR',\n",
              "  ' ADJUTO RODRIGUES AFONSO',\n",
              "  ' ALESSANDRA CAMPÊLO DA SILVA',\n",
              "  ' ALCIMAR MACIEL PEREIRA',\n",
              "  ' CARLOS EDUARDO BESSA DE SA',\n",
              "  ' DAN CÂMARA',\n",
              "  ' CRISTIANO DA SILVA DANGELO',\n",
              "  ' DANIEL D JUDA PEREIRA DE ALMEIDA',\n",
              "  ' DÉBORA SALGUEIRO DE MENEZES',\n",
              "  ' PERICLES RODRIGUES DO NASCIMENTO',\n",
              "  ' GEORGE AUGUSTO MONTEIRO LINS DE',\n",
              "  ' FRANCISCO DO NASCIMENTO GOMES',\n",
              "  ' MAYARA DA CRUZ FIGUEIREDO',\n",
              "  ' LUIS FELIPE SILVA DE SOUZA',\n",
              "  ' JOANA DARC CORDEIRO DE LIMA',\n",
              "  ' JOAO LUIZ ALMEIDA DA SILVA',\n",
              "  ' MÁRIO CÉSAR RODRIGUES BALDUINO',\n",
              "  ' MAYRA BENITA ALVES DIAS GARCIA',\n",
              "  ' ROBERTO MAIA CIDADE FILHO',\n",
              "  ' EDNAILSON LEITE ROZENHA',\n",
              "  ' SINESIO DA SILVA CAMPOS',\n",
              "  ' JORGE THIAGO CARVALHO ABRAHIM',\n",
              "  ' WANDERLEY CALDEIRA MONTEIRO',\n",
              "  ' MAURICIO WILKER DE AZEVEDO'],\n",
              " 'valor': ['R$52.000,00',\n",
              "  'R$50.214,55',\n",
              "  'R$47.182,13',\n",
              "  'R$44.820,54',\n",
              "  'R$50.599,39',\n",
              "  'R$46.614,10',\n",
              "  'R$49.775,20',\n",
              "  'R$57.088,65',\n",
              "  'R$61.860,00',\n",
              "  'R$39.191,99',\n",
              "  'R$49.900,00',\n",
              "  'R$48.987,36',\n",
              "  'R$45.200,00',\n",
              "  'R$49.355,32',\n",
              "  'R$52.451,92',\n",
              "  'R$65.205,00',\n",
              "  'R$49.540,14',\n",
              "  'R$53.080,88',\n",
              "  'R$56.429,12',\n",
              "  'R$47.000,00',\n",
              "  'R$21.409,32',\n",
              "  'R$59.827,95',\n",
              "  'R$49.645,00',\n",
              "  'R$39.500,00']}"
            ]
          },
          "metadata": {},
          "execution_count": 15
        }
      ]
    },
    {
      "cell_type": "code",
      "source": [
        "import pandas as pd"
      ],
      "metadata": {
        "id": "5DysoJEamF7u"
      },
      "execution_count": 16,
      "outputs": []
    },
    {
      "cell_type": "code",
      "source": [
        "# salvando os dados do dicionario em um dataframe\n",
        "\n",
        "df_ceap = pd.DataFrame.from_dict(dic_ceap)\n",
        "df_ceap"
      ],
      "metadata": {
        "colab": {
          "base_uri": "https://localhost:8080/",
          "height": 802
        },
        "id": "R4nWIxGrmCGL",
        "outputId": "5179ec58-92ab-4768-d9d9-54381b919c56"
      },
      "execution_count": 17,
      "outputs": [
        {
          "output_type": "execute_result",
          "data": {
            "text/plain": [
              "          data                               nome        valor\n",
              "0   JUNHO/2023          ABDALA HABIB FRAXE JUNIOR  R$52.000,00\n",
              "1   JUNHO/2023            ADJUTO RODRIGUES AFONSO  R$50.214,55\n",
              "2   JUNHO/2023        ALESSANDRA CAMPÊLO DA SILVA  R$47.182,13\n",
              "3   JUNHO/2023             ALCIMAR MACIEL PEREIRA  R$44.820,54\n",
              "4   JUNHO/2023         CARLOS EDUARDO BESSA DE SA  R$50.599,39\n",
              "5   JUNHO/2023                         DAN CÂMARA  R$46.614,10\n",
              "6   JUNHO/2023         CRISTIANO DA SILVA DANGELO  R$49.775,20\n",
              "7   JUNHO/2023   DANIEL D JUDA PEREIRA DE ALMEIDA  R$57.088,65\n",
              "8   JUNHO/2023        DÉBORA SALGUEIRO DE MENEZES  R$61.860,00\n",
              "9   JUNHO/2023   PERICLES RODRIGUES DO NASCIMENTO  R$39.191,99\n",
              "10  JUNHO/2023    GEORGE AUGUSTO MONTEIRO LINS DE  R$49.900,00\n",
              "11  JUNHO/2023      FRANCISCO DO NASCIMENTO GOMES  R$48.987,36\n",
              "12  JUNHO/2023          MAYARA DA CRUZ FIGUEIREDO  R$45.200,00\n",
              "13  JUNHO/2023         LUIS FELIPE SILVA DE SOUZA  R$49.355,32\n",
              "14  JUNHO/2023        JOANA DARC CORDEIRO DE LIMA  R$52.451,92\n",
              "15  JUNHO/2023         JOAO LUIZ ALMEIDA DA SILVA  R$65.205,00\n",
              "16  JUNHO/2023     MÁRIO CÉSAR RODRIGUES BALDUINO  R$49.540,14\n",
              "17  JUNHO/2023     MAYRA BENITA ALVES DIAS GARCIA  R$53.080,88\n",
              "18  JUNHO/2023          ROBERTO MAIA CIDADE FILHO  R$56.429,12\n",
              "19  JUNHO/2023            EDNAILSON LEITE ROZENHA  R$47.000,00\n",
              "20  JUNHO/2023            SINESIO DA SILVA CAMPOS  R$21.409,32\n",
              "21  JUNHO/2023      JORGE THIAGO CARVALHO ABRAHIM  R$59.827,95\n",
              "22  JUNHO/2023        WANDERLEY CALDEIRA MONTEIRO  R$49.645,00\n",
              "23  JUNHO/2023         MAURICIO WILKER DE AZEVEDO  R$39.500,00"
            ],
            "text/html": [
              "\n",
              "\n",
              "  <div id=\"df-9f25576d-64bf-4fe5-95ba-a5744dd0c461\">\n",
              "    <div class=\"colab-df-container\">\n",
              "      <div>\n",
              "<style scoped>\n",
              "    .dataframe tbody tr th:only-of-type {\n",
              "        vertical-align: middle;\n",
              "    }\n",
              "\n",
              "    .dataframe tbody tr th {\n",
              "        vertical-align: top;\n",
              "    }\n",
              "\n",
              "    .dataframe thead th {\n",
              "        text-align: right;\n",
              "    }\n",
              "</style>\n",
              "<table border=\"1\" class=\"dataframe\">\n",
              "  <thead>\n",
              "    <tr style=\"text-align: right;\">\n",
              "      <th></th>\n",
              "      <th>data</th>\n",
              "      <th>nome</th>\n",
              "      <th>valor</th>\n",
              "    </tr>\n",
              "  </thead>\n",
              "  <tbody>\n",
              "    <tr>\n",
              "      <th>0</th>\n",
              "      <td>JUNHO/2023</td>\n",
              "      <td>ABDALA HABIB FRAXE JUNIOR</td>\n",
              "      <td>R$52.000,00</td>\n",
              "    </tr>\n",
              "    <tr>\n",
              "      <th>1</th>\n",
              "      <td>JUNHO/2023</td>\n",
              "      <td>ADJUTO RODRIGUES AFONSO</td>\n",
              "      <td>R$50.214,55</td>\n",
              "    </tr>\n",
              "    <tr>\n",
              "      <th>2</th>\n",
              "      <td>JUNHO/2023</td>\n",
              "      <td>ALESSANDRA CAMPÊLO DA SILVA</td>\n",
              "      <td>R$47.182,13</td>\n",
              "    </tr>\n",
              "    <tr>\n",
              "      <th>3</th>\n",
              "      <td>JUNHO/2023</td>\n",
              "      <td>ALCIMAR MACIEL PEREIRA</td>\n",
              "      <td>R$44.820,54</td>\n",
              "    </tr>\n",
              "    <tr>\n",
              "      <th>4</th>\n",
              "      <td>JUNHO/2023</td>\n",
              "      <td>CARLOS EDUARDO BESSA DE SA</td>\n",
              "      <td>R$50.599,39</td>\n",
              "    </tr>\n",
              "    <tr>\n",
              "      <th>5</th>\n",
              "      <td>JUNHO/2023</td>\n",
              "      <td>DAN CÂMARA</td>\n",
              "      <td>R$46.614,10</td>\n",
              "    </tr>\n",
              "    <tr>\n",
              "      <th>6</th>\n",
              "      <td>JUNHO/2023</td>\n",
              "      <td>CRISTIANO DA SILVA DANGELO</td>\n",
              "      <td>R$49.775,20</td>\n",
              "    </tr>\n",
              "    <tr>\n",
              "      <th>7</th>\n",
              "      <td>JUNHO/2023</td>\n",
              "      <td>DANIEL D JUDA PEREIRA DE ALMEIDA</td>\n",
              "      <td>R$57.088,65</td>\n",
              "    </tr>\n",
              "    <tr>\n",
              "      <th>8</th>\n",
              "      <td>JUNHO/2023</td>\n",
              "      <td>DÉBORA SALGUEIRO DE MENEZES</td>\n",
              "      <td>R$61.860,00</td>\n",
              "    </tr>\n",
              "    <tr>\n",
              "      <th>9</th>\n",
              "      <td>JUNHO/2023</td>\n",
              "      <td>PERICLES RODRIGUES DO NASCIMENTO</td>\n",
              "      <td>R$39.191,99</td>\n",
              "    </tr>\n",
              "    <tr>\n",
              "      <th>10</th>\n",
              "      <td>JUNHO/2023</td>\n",
              "      <td>GEORGE AUGUSTO MONTEIRO LINS DE</td>\n",
              "      <td>R$49.900,00</td>\n",
              "    </tr>\n",
              "    <tr>\n",
              "      <th>11</th>\n",
              "      <td>JUNHO/2023</td>\n",
              "      <td>FRANCISCO DO NASCIMENTO GOMES</td>\n",
              "      <td>R$48.987,36</td>\n",
              "    </tr>\n",
              "    <tr>\n",
              "      <th>12</th>\n",
              "      <td>JUNHO/2023</td>\n",
              "      <td>MAYARA DA CRUZ FIGUEIREDO</td>\n",
              "      <td>R$45.200,00</td>\n",
              "    </tr>\n",
              "    <tr>\n",
              "      <th>13</th>\n",
              "      <td>JUNHO/2023</td>\n",
              "      <td>LUIS FELIPE SILVA DE SOUZA</td>\n",
              "      <td>R$49.355,32</td>\n",
              "    </tr>\n",
              "    <tr>\n",
              "      <th>14</th>\n",
              "      <td>JUNHO/2023</td>\n",
              "      <td>JOANA DARC CORDEIRO DE LIMA</td>\n",
              "      <td>R$52.451,92</td>\n",
              "    </tr>\n",
              "    <tr>\n",
              "      <th>15</th>\n",
              "      <td>JUNHO/2023</td>\n",
              "      <td>JOAO LUIZ ALMEIDA DA SILVA</td>\n",
              "      <td>R$65.205,00</td>\n",
              "    </tr>\n",
              "    <tr>\n",
              "      <th>16</th>\n",
              "      <td>JUNHO/2023</td>\n",
              "      <td>MÁRIO CÉSAR RODRIGUES BALDUINO</td>\n",
              "      <td>R$49.540,14</td>\n",
              "    </tr>\n",
              "    <tr>\n",
              "      <th>17</th>\n",
              "      <td>JUNHO/2023</td>\n",
              "      <td>MAYRA BENITA ALVES DIAS GARCIA</td>\n",
              "      <td>R$53.080,88</td>\n",
              "    </tr>\n",
              "    <tr>\n",
              "      <th>18</th>\n",
              "      <td>JUNHO/2023</td>\n",
              "      <td>ROBERTO MAIA CIDADE FILHO</td>\n",
              "      <td>R$56.429,12</td>\n",
              "    </tr>\n",
              "    <tr>\n",
              "      <th>19</th>\n",
              "      <td>JUNHO/2023</td>\n",
              "      <td>EDNAILSON LEITE ROZENHA</td>\n",
              "      <td>R$47.000,00</td>\n",
              "    </tr>\n",
              "    <tr>\n",
              "      <th>20</th>\n",
              "      <td>JUNHO/2023</td>\n",
              "      <td>SINESIO DA SILVA CAMPOS</td>\n",
              "      <td>R$21.409,32</td>\n",
              "    </tr>\n",
              "    <tr>\n",
              "      <th>21</th>\n",
              "      <td>JUNHO/2023</td>\n",
              "      <td>JORGE THIAGO CARVALHO ABRAHIM</td>\n",
              "      <td>R$59.827,95</td>\n",
              "    </tr>\n",
              "    <tr>\n",
              "      <th>22</th>\n",
              "      <td>JUNHO/2023</td>\n",
              "      <td>WANDERLEY CALDEIRA MONTEIRO</td>\n",
              "      <td>R$49.645,00</td>\n",
              "    </tr>\n",
              "    <tr>\n",
              "      <th>23</th>\n",
              "      <td>JUNHO/2023</td>\n",
              "      <td>MAURICIO WILKER DE AZEVEDO</td>\n",
              "      <td>R$39.500,00</td>\n",
              "    </tr>\n",
              "  </tbody>\n",
              "</table>\n",
              "</div>\n",
              "      <button class=\"colab-df-convert\" onclick=\"convertToInteractive('df-9f25576d-64bf-4fe5-95ba-a5744dd0c461')\"\n",
              "              title=\"Convert this dataframe to an interactive table.\"\n",
              "              style=\"display:none;\">\n",
              "\n",
              "  <svg xmlns=\"http://www.w3.org/2000/svg\" height=\"24px\"viewBox=\"0 0 24 24\"\n",
              "       width=\"24px\">\n",
              "    <path d=\"M0 0h24v24H0V0z\" fill=\"none\"/>\n",
              "    <path d=\"M18.56 5.44l.94 2.06.94-2.06 2.06-.94-2.06-.94-.94-2.06-.94 2.06-2.06.94zm-11 1L8.5 8.5l.94-2.06 2.06-.94-2.06-.94L8.5 2.5l-.94 2.06-2.06.94zm10 10l.94 2.06.94-2.06 2.06-.94-2.06-.94-.94-2.06-.94 2.06-2.06.94z\"/><path d=\"M17.41 7.96l-1.37-1.37c-.4-.4-.92-.59-1.43-.59-.52 0-1.04.2-1.43.59L10.3 9.45l-7.72 7.72c-.78.78-.78 2.05 0 2.83L4 21.41c.39.39.9.59 1.41.59.51 0 1.02-.2 1.41-.59l7.78-7.78 2.81-2.81c.8-.78.8-2.07 0-2.86zM5.41 20L4 18.59l7.72-7.72 1.47 1.35L5.41 20z\"/>\n",
              "  </svg>\n",
              "      </button>\n",
              "\n",
              "\n",
              "\n",
              "    <div id=\"df-1c093e80-12bf-4c96-9ce6-5f43713a5880\">\n",
              "      <button class=\"colab-df-quickchart\" onclick=\"quickchart('df-1c093e80-12bf-4c96-9ce6-5f43713a5880')\"\n",
              "              title=\"Suggest charts.\"\n",
              "              style=\"display:none;\">\n",
              "\n",
              "<svg xmlns=\"http://www.w3.org/2000/svg\" height=\"24px\"viewBox=\"0 0 24 24\"\n",
              "     width=\"24px\">\n",
              "    <g>\n",
              "        <path d=\"M19 3H5c-1.1 0-2 .9-2 2v14c0 1.1.9 2 2 2h14c1.1 0 2-.9 2-2V5c0-1.1-.9-2-2-2zM9 17H7v-7h2v7zm4 0h-2V7h2v10zm4 0h-2v-4h2v4z\"/>\n",
              "    </g>\n",
              "</svg>\n",
              "      </button>\n",
              "    </div>\n",
              "\n",
              "<style>\n",
              "  .colab-df-quickchart {\n",
              "    background-color: #E8F0FE;\n",
              "    border: none;\n",
              "    border-radius: 50%;\n",
              "    cursor: pointer;\n",
              "    display: none;\n",
              "    fill: #1967D2;\n",
              "    height: 32px;\n",
              "    padding: 0 0 0 0;\n",
              "    width: 32px;\n",
              "  }\n",
              "\n",
              "  .colab-df-quickchart:hover {\n",
              "    background-color: #E2EBFA;\n",
              "    box-shadow: 0px 1px 2px rgba(60, 64, 67, 0.3), 0px 1px 3px 1px rgba(60, 64, 67, 0.15);\n",
              "    fill: #174EA6;\n",
              "  }\n",
              "\n",
              "  [theme=dark] .colab-df-quickchart {\n",
              "    background-color: #3B4455;\n",
              "    fill: #D2E3FC;\n",
              "  }\n",
              "\n",
              "  [theme=dark] .colab-df-quickchart:hover {\n",
              "    background-color: #434B5C;\n",
              "    box-shadow: 0px 1px 3px 1px rgba(0, 0, 0, 0.15);\n",
              "    filter: drop-shadow(0px 1px 2px rgba(0, 0, 0, 0.3));\n",
              "    fill: #FFFFFF;\n",
              "  }\n",
              "</style>\n",
              "\n",
              "    <script>\n",
              "      async function quickchart(key) {\n",
              "        const containerElement = document.querySelector('#' + key);\n",
              "        const charts = await google.colab.kernel.invokeFunction(\n",
              "            'suggestCharts', [key], {});\n",
              "      }\n",
              "    </script>\n",
              "\n",
              "      <script>\n",
              "\n",
              "function displayQuickchartButton(domScope) {\n",
              "  let quickchartButtonEl =\n",
              "    domScope.querySelector('#df-1c093e80-12bf-4c96-9ce6-5f43713a5880 button.colab-df-quickchart');\n",
              "  quickchartButtonEl.style.display =\n",
              "    google.colab.kernel.accessAllowed ? 'block' : 'none';\n",
              "}\n",
              "\n",
              "        displayQuickchartButton(document);\n",
              "      </script>\n",
              "      <style>\n",
              "    .colab-df-container {\n",
              "      display:flex;\n",
              "      flex-wrap:wrap;\n",
              "      gap: 12px;\n",
              "    }\n",
              "\n",
              "    .colab-df-convert {\n",
              "      background-color: #E8F0FE;\n",
              "      border: none;\n",
              "      border-radius: 50%;\n",
              "      cursor: pointer;\n",
              "      display: none;\n",
              "      fill: #1967D2;\n",
              "      height: 32px;\n",
              "      padding: 0 0 0 0;\n",
              "      width: 32px;\n",
              "    }\n",
              "\n",
              "    .colab-df-convert:hover {\n",
              "      background-color: #E2EBFA;\n",
              "      box-shadow: 0px 1px 2px rgba(60, 64, 67, 0.3), 0px 1px 3px 1px rgba(60, 64, 67, 0.15);\n",
              "      fill: #174EA6;\n",
              "    }\n",
              "\n",
              "    [theme=dark] .colab-df-convert {\n",
              "      background-color: #3B4455;\n",
              "      fill: #D2E3FC;\n",
              "    }\n",
              "\n",
              "    [theme=dark] .colab-df-convert:hover {\n",
              "      background-color: #434B5C;\n",
              "      box-shadow: 0px 1px 3px 1px rgba(0, 0, 0, 0.15);\n",
              "      filter: drop-shadow(0px 1px 2px rgba(0, 0, 0, 0.3));\n",
              "      fill: #FFFFFF;\n",
              "    }\n",
              "  </style>\n",
              "\n",
              "      <script>\n",
              "        const buttonEl =\n",
              "          document.querySelector('#df-9f25576d-64bf-4fe5-95ba-a5744dd0c461 button.colab-df-convert');\n",
              "        buttonEl.style.display =\n",
              "          google.colab.kernel.accessAllowed ? 'block' : 'none';\n",
              "\n",
              "        async function convertToInteractive(key) {\n",
              "          const element = document.querySelector('#df-9f25576d-64bf-4fe5-95ba-a5744dd0c461');\n",
              "          const dataTable =\n",
              "            await google.colab.kernel.invokeFunction('convertToInteractive',\n",
              "                                                     [key], {});\n",
              "          if (!dataTable) return;\n",
              "\n",
              "          const docLinkHtml = 'Like what you see? Visit the ' +\n",
              "            '<a target=\"_blank\" href=https://colab.research.google.com/notebooks/data_table.ipynb>data table notebook</a>'\n",
              "            + ' to learn more about interactive tables.';\n",
              "          element.innerHTML = '';\n",
              "          dataTable['output_type'] = 'display_data';\n",
              "          await google.colab.output.renderOutput(dataTable, element);\n",
              "          const docLink = document.createElement('div');\n",
              "          docLink.innerHTML = docLinkHtml;\n",
              "          element.appendChild(docLink);\n",
              "        }\n",
              "      </script>\n",
              "    </div>\n",
              "  </div>\n"
            ]
          },
          "metadata": {},
          "execution_count": 17
        }
      ]
    }
  ]
}